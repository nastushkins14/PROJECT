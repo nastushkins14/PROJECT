{
  "nbformat": 4,
  "nbformat_minor": 0,
  "metadata": {
    "colab": {
      "provenance": []
    },
    "kernelspec": {
      "name": "python3",
      "display_name": "Python 3"
    },
    "language_info": {
      "name": "python"
    }
  },
  "cells": [
    {
      "cell_type": "markdown",
      "source": [
        "# **Импорт необходимых библиотек**"
      ],
      "metadata": {
        "id": "QEEtGYAibCCM"
      }
    },
    {
      "cell_type": "code",
      "source": [
        "from sklearn.model_selection import train_test_split\n",
        "from sklearn.preprocessing import StandardScaler\n",
        "from sklearn.linear_model import LinearRegression\n",
        "from sklearn.metrics import mean_absolute_percentage_error\n",
        "from sklearn.metrics import r2_score\n",
        "from sklearn.preprocessing import PolynomialFeatures"
      ],
      "metadata": {
        "id": "FQcyKyeRypvN"
      },
      "execution_count": null,
      "outputs": []
    },
    {
      "cell_type": "markdown",
      "source": [
        "# **Машинное обучение**"
      ],
      "metadata": {
        "id": "yb4IYZa3bGyk"
      }
    },
    {
      "cell_type": "markdown",
      "source": [
        "Обучим модель линейной регрессии, способную предсказывать цены акций ПАО Сбербанк на основе других показателей"
      ],
      "metadata": {
        "id": "N3qXHyn0yANZ"
      }
    },
    {
      "cell_type": "code",
      "source": [
        "y = df[\"Цена_СБ\"]\n",
        "X = df.drop(columns=[\"Цена_СБ\", 'Откр.СБ', 'Откр.М', 'Откр.ДР', 'Рабочий день', 'День недели', 'Месяц']) #убрали ненужные нам признаки\n",
        "feature_names = X.columns.values\n",
        "\n",
        "X_train, X_test, y_train, y_test = train_test_split(X, y, test_size=0.2, random_state=42)"
      ],
      "metadata": {
        "id": "zKfEBT6q0C4b"
      },
      "execution_count": null,
      "outputs": []
    },
    {
      "cell_type": "markdown",
      "source": [
        "При проверке гипотез мы поняли, что необходимо нормализовать данные для более стабильного обучения модели"
      ],
      "metadata": {
        "id": "cN2w_IpBx0HP"
      }
    },
    {
      "cell_type": "code",
      "source": [
        "numeric_data = X_train.select_dtypes([np.number])\n",
        "\n",
        "numeric_data_mean = numeric_data.mean()\n",
        "numeric_features = numeric_data.columns\n",
        "\n",
        "X_train = X_train.fillna(numeric_data_mean)\n",
        "X_test = X_test.fillna(numeric_data_mean)"
      ],
      "metadata": {
        "id": "1bm_Flozx5Hq"
      },
      "execution_count": null,
      "outputs": []
    },
    {
      "cell_type": "code",
      "source": [
        "scaler_x = StandardScaler()\n",
        "X_train_scaled = scaler_x.fit_transform(X_train[numeric_features])\n",
        "X_test_scaled = scaler_x.transform(X_test[numeric_features])"
      ],
      "metadata": {
        "id": "R5OrFKgp0hXV"
      },
      "execution_count": null,
      "outputs": []
    },
    {
      "cell_type": "code",
      "source": [
        "model = LinearRegression()\n",
        "model.fit(X_train_scaled, y_train)\n",
        "y_pred = model.predict(X_test_scaled)\n",
        "y_train_pred = model.predict(X_train_scaled)\n",
        "\n",
        "print(\"Test MAPE = %.4f\" % mean_absolute_percentage_error(y_test, y_pred))\n",
        "print(\"Train MAPE = %.4f\" % mean_absolute_percentage_error(y_train, y_train_pred))"
      ],
      "metadata": {
        "colab": {
          "base_uri": "https://localhost:8080/"
        },
        "id": "F5QtXMXx0kvb",
        "outputId": "51d277b1-1c2a-4768-8422-3b3eaf4be874"
      },
      "execution_count": null,
      "outputs": [
        {
          "output_type": "stream",
          "name": "stdout",
          "text": [
            "Test MAPE = 0.0218\n",
            "Train MAPE = 0.0254\n"
          ]
        }
      ]
    },
    {
      "cell_type": "code",
      "source": [
        "r_squared_test = r2_score(y_test, y_pred)\n",
        "r_squared_train = r2_score(y_train, y_train_pred)\n",
        "print('Коэффициент детерминации для тестовой выборки = ', r_squared_test )\n",
        "print('Коэффициент детерминации для обучающей выборки = ', r_squared_train )"
      ],
      "metadata": {
        "colab": {
          "base_uri": "https://localhost:8080/"
        },
        "id": "WjTphvxjaLP0",
        "outputId": "b3801294-4c25-4b0c-9b7a-446035d4a606"
      },
      "execution_count": null,
      "outputs": [
        {
          "output_type": "stream",
          "name": "stdout",
          "text": [
            "Коэффициент детерминации для тестовой выборки =  0.979442921933456\n",
            "Коэффициент детерминации для обучающей выборки =  0.9743122067832632\n"
          ]
        }
      ]
    },
    {
      "cell_type": "markdown",
      "source": [
        "Попробуем сделать нашу модель ещё точнее"
      ],
      "metadata": {
        "id": "0hywGNjCbhuj"
      }
    },
    {
      "cell_type": "code",
      "source": [
        "polinom_transform = PolynomialFeatures(2, include_bias=False)\n",
        "\n",
        "X_train_poly = polinom_transform.fit_transform(X_train_scaled)\n",
        "X_test_poly = polinom_transform.transform(X_test_scaled)"
      ],
      "metadata": {
        "id": "4ksjt16F0tfE"
      },
      "execution_count": null,
      "outputs": []
    },
    {
      "cell_type": "code",
      "source": [
        "model = LinearRegression()\n",
        "\n",
        "model.fit(X_train_poly, y_train)\n",
        "y_pred = model.predict(X_test_poly)\n",
        "y_train_pred = model.predict(X_train_poly)\n",
        "\n",
        "print(\"Test MAPE = %.4f\" % mean_absolute_percentage_error(y_test, y_pred))\n",
        "print(\"Train MAPE = %.4f\" % mean_absolute_percentage_error(y_train, y_train_pred))"
      ],
      "metadata": {
        "colab": {
          "base_uri": "https://localhost:8080/"
        },
        "id": "mNsb-tv_0wSq",
        "outputId": "b3db1d90-a33f-4e6e-ff4a-ebc2ab8c54ed"
      },
      "execution_count": null,
      "outputs": [
        {
          "output_type": "stream",
          "name": "stdout",
          "text": [
            "Test MAPE = 0.0153\n",
            "Train MAPE = 0.0139\n"
          ]
        }
      ]
    },
    {
      "cell_type": "code",
      "source": [
        "np.abs(model.coef_)[:10]"
      ],
      "metadata": {
        "colab": {
          "base_uri": "https://localhost:8080/"
        },
        "id": "1URmdikK00ks",
        "outputId": "d079253c-c1a0-409e-f1e9-c58acb667030"
      },
      "execution_count": null,
      "outputs": [
        {
          "output_type": "execute_result",
          "data": {
            "text/plain": [
              "array([47.45654484,  6.12661152, 27.65060916, 33.85425342,  7.1353123 ,\n",
              "       11.84251267, 19.78755411, 40.04032531, 17.7816035 ,  1.66469599])"
            ]
          },
          "metadata": {},
          "execution_count": 66
        }
      ]
    },
    {
      "cell_type": "code",
      "source": [
        "r_squared_test = r2_score(y_test, y_pred)\n",
        "r_squared_train = r2_score(y_train, y_train_pred)\n",
        "print('Коэффициент детерминации для тестовой выборки = ', r_squared_test )\n",
        "print('Коэффициент детерминации для обучающей выборки = ', r_squared_train )"
      ],
      "metadata": {
        "colab": {
          "base_uri": "https://localhost:8080/"
        },
        "id": "TnVclIgSYPjQ",
        "outputId": "fbe72c50-2eb7-4940-cffe-9649f66a2815"
      },
      "execution_count": null,
      "outputs": [
        {
          "output_type": "stream",
          "name": "stdout",
          "text": [
            "Коэффициент детерминации для тестовой выборки =  0.9877334208747649\n",
            "Коэффициент детерминации для обучающей выборки =  0.9905282282289878\n"
          ]
        }
      ]
    },
    {
      "cell_type": "markdown",
      "source": [
        "Коэффициент детерминации стал ещё выше и теперь наиболее близок к 1, что позволяет нам сделать вывод о высоком качестве обученной модели."
      ],
      "metadata": {
        "id": "U3EltsYfbPin"
      }
    }
  ]
}