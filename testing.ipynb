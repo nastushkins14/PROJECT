{
  "nbformat": 4,
  "nbformat_minor": 0,
  "metadata": {
    "colab": {
      "provenance": []
    },
    "kernelspec": {
      "name": "python3",
      "display_name": "Python 3"
    },
    "language_info": {
      "name": "python"
    }
  },
  "cells": [
    {
      "cell_type": "markdown",
      "source": [
        "# **Импорт необходимых библиотек**"
      ],
      "metadata": {
        "id": "ncRzN5EenZK3"
      }
    },
    {
      "cell_type": "code",
      "execution_count": null,
      "metadata": {
        "id": "4JJ8BdFlagaP"
      },
      "outputs": [],
      "source": [
        "from scipy import stats\n",
        "from statsmodels.tsa.stattools import adfuller\n",
        "import statsmodels.formula.api as sm\n",
        "import statsmodels.api as st\n",
        "from statsmodels.stats.stattools import durbin_watson"
      ]
    },
    {
      "cell_type": "markdown",
      "source": [
        "# **Тестирование гипотез**"
      ],
      "metadata": {
        "id": "ssFScaOOzvs1"
      }
    },
    {
      "cell_type": "markdown",
      "source": [
        "1. Проверим гипотезу о нормальности распределения цен акций Сбербанка с помощью теста Шапиро-Уилка"
      ],
      "metadata": {
        "id": "Sw7Qwlca6ki6"
      }
    },
    {
      "cell_type": "code",
      "source": [
        "#https://www.codecamp.ru/blog/shapiro-wilk-test-python/\n",
        "statistic, p_value = stats.shapiro(df['Цена_СБ'])\n",
        "print(\"Статистика теста:\", statistic)\n",
        "print(\"p-значение:\", p_value)\n",
        "\n",
        "# Оценка нормальности данных на основе p-значения\n",
        "alpha = 0.05  # Уровень значимости\n",
        "if p_value > alpha:\n",
        "    print(\"Данные похожи на нормальное распределение\")\n",
        "else:\n",
        "    print(\"Данные не похожи на нормальное распределение\")"
      ],
      "metadata": {
        "colab": {
          "base_uri": "https://localhost:8080/"
        },
        "id": "du53dL3qB8IM",
        "outputId": "9d461979-7027-447f-9a54-3d7511bd5203"
      },
      "execution_count": null,
      "outputs": [
        {
          "output_type": "stream",
          "name": "stdout",
          "text": [
            "Статистика теста: 0.9019277095794678\n",
            "p-значение: 2.710802502609022e-13\n",
            "Данные не похожи на нормальное распределение\n"
          ]
        }
      ]
    },
    {
      "cell_type": "markdown",
      "source": [
        "Наша гипотеза будет отвергаться на любом уровне значимости, поскольку pvalue велико, поэтому потребуется нормализация."
      ],
      "metadata": {
        "id": "mMKX9-m0Cp_9"
      }
    },
    {
      "cell_type": "markdown",
      "source": [
        "2. Проверим гипотезу о стационарости временного ряда, чтобы посмотреть, не меняются ли основные статистические характеристики цен акций во времени.\n",
        "**Нулевая гипотеза:** ряд нестационарен.\n",
        "\n",
        "**Альтернативная гипотеза:** ряд стационарен"
      ],
      "metadata": {
        "id": "Wge2KA1XE0Gr"
      }
    },
    {
      "cell_type": "code",
      "source": [
        "result = adfuller(df[\"Цена_СБ\"])\n",
        "print(\"Статистика теста:\", result[0])\n",
        "print(\"P-значение:\", result[1])\n",
        "print(\"Критические значения:\", result[4])\n",
        "if result[1] < 0.05:\n",
        "    print(\"Отклоняем нулевую гипотезу - ряд стационарен\")\n",
        "else:\n",
        "    print(\"Не отклоняем нулевую гипотезу - ряд нестационарен\")"
      ],
      "metadata": {
        "colab": {
          "base_uri": "https://localhost:8080/"
        },
        "id": "h_ke15ONFCZ7",
        "outputId": "bcb69085-2666-44df-b8c4-4b6c5faac9b0"
      },
      "execution_count": null,
      "outputs": [
        {
          "output_type": "stream",
          "name": "stdout",
          "text": [
            "Статистика теста: 0.8083743612950619\n",
            "P-значение: 0.9917701503430552\n",
            "Критические значения: {'1%': -3.45169128009473, '5%': -2.8709394227049154, '10%': -2.5717780602423517}\n",
            "Не можем отклонить нулевую гипотезу - ряд нестационарен\n"
          ]
        }
      ]
    },
    {
      "cell_type": "markdown",
      "source": [
        "Вывод: ряд цен акций Сбербанка будет необходимо сделать стационарным"
      ],
      "metadata": {
        "id": "WtJpK89oHoCC"
      }
    },
    {
      "cell_type": "markdown",
      "source": [
        "3. Проверим выдвинутую ранее гипотезу о взаимосвязи между концом квартала и ценами акций с помощью t-теста и регрессионного анализа\n",
        "**Нулевая гипотеза:** в цене акций в дни окончания квартала нет значимой разницы\n",
        "\n",
        "**Альтернативная гипотеза:** в цене акций в дни окончания квартала есть значимая разница"
      ],
      "metadata": {
        "id": "drLcPOyqH49m"
      }
    },
    {
      "cell_type": "code",
      "source": [
        "group1 = df[\"Цена_СБ\"][df[\"is_quarter_end\"] == 1]\n",
        "group2 = df[\"Цена_СБ\"][df[\"is_quarter_end\"] == 0]\n",
        "\n",
        "# Выполняем t-тест\n",
        "result = stats.ttest_ind(group1, group2)\n",
        "\n",
        "# Выводим результаты\n",
        "print(\"Статистика теста:\", result.statistic)\n",
        "print(\"P-значение:\", result.pvalue)\n",
        "\n",
        "# Интерпретация результатов\n",
        "if result.pvalue < 0.05:\n",
        "    print(\"Отклоняем нулевую гипотезу - есть значимая разница в цене акции в дни окончания квартала\")\n",
        "else:\n",
        "    print(\"Не можем отклонить нулевую гипотезу - нет значимой разницы в цене акции в дни окончания квартала\")"
      ],
      "metadata": {
        "colab": {
          "base_uri": "https://localhost:8080/"
        },
        "id": "S2X_j-f_IBZo",
        "outputId": "29f528ca-b0e2-49cb-c67f-b1225fc1b44c"
      },
      "execution_count": null,
      "outputs": [
        {
          "output_type": "stream",
          "name": "stdout",
          "text": [
            "Статистика теста: -0.10080524779308873\n",
            "P-значение: 0.9197706480513388\n",
            "Не можем отклонить нулевую гипотезу - нет значимой разницы в цене акции в дни окончания квартала\n"
          ]
        }
      ]
    },
    {
      "cell_type": "code",
      "source": [
        "#https://habr.com/ru/articles/690414/\n",
        "model = sm.ols(\"Цена_СБ ~ is_quarter_end\", data=df)\n",
        "results = model.fit()\n",
        "print(results.summary())\n",
        "if results.pvalues[\"is_quarter_end\"] < 0.05:\n",
        "    print(\"Конец квартала значимо влияет на цену акции\")\n",
        "else:\n",
        "    print(\"Конец квартала незначительно влияет на цену акции\")"
      ],
      "metadata": {
        "colab": {
          "base_uri": "https://localhost:8080/"
        },
        "id": "0dialDqAKi0u",
        "outputId": "1397f3b5-78b6-47af-e359-8ccaaef471f1"
      },
      "execution_count": null,
      "outputs": [
        {
          "output_type": "stream",
          "name": "stdout",
          "text": [
            "                            OLS Regression Results                            \n",
            "==============================================================================\n",
            "Dep. Variable:                Цена_СБ   R-squared:                       0.000\n",
            "Model:                            OLS   Adj. R-squared:                 -0.003\n",
            "Method:                 Least Squares   F-statistic:                   0.01016\n",
            "Date:                Sun, 02 Jun 2024   Prob (F-statistic):              0.920\n",
            "Time:                        13:57:23   Log-Likelihood:                -1620.7\n",
            "No. Observations:                 310   AIC:                             3245.\n",
            "Df Residuals:                     308   BIC:                             3253.\n",
            "Df Model:                           1                                         \n",
            "Covariance Type:            nonrobust                                         \n",
            "==================================================================================\n",
            "                     coef    std err          t      P>|t|      [0.025      0.975]\n",
            "----------------------------------------------------------------------------------\n",
            "Intercept        246.1308      3.004     81.931      0.000     240.220     252.042\n",
            "is_quarter_end    -0.5853      5.806     -0.101      0.920     -12.009      10.839\n",
            "==============================================================================\n",
            "Omnibus:                       31.318   Durbin-Watson:                   0.005\n",
            "Prob(Omnibus):                  0.000   Jarque-Bera (JB):               38.947\n",
            "Skew:                          -0.864   Prob(JB):                     3.49e-09\n",
            "Kurtosis:                       2.835   Cond. No.                         2.46\n",
            "==============================================================================\n",
            "\n",
            "Notes:\n",
            "[1] Standard Errors assume that the covariance matrix of the errors is correctly specified.\n",
            "Конец квартала незначительно влияет на цену акции\n"
          ]
        }
      ]
    },
    {
      "cell_type": "markdown",
      "source": [
        "Наше предположение о том, что дни окончания квартала влияют на динамику цен акций ПАО Сбербанк,не подтвердилось.Скорее всего это связано с финансовой стабильностью компании и её политикой по отношению к инвесторам (например, Сбербанк часто публикует промежуточные результаты деятельности компании в ТГ-канале),что позволяет инвестором закладывать позитивные ожидания в цены акций заранее, и новость о публикации компанией ежеквартальной отчетности не отыгрывается на рынке так, как у компаний, которые осуществляют иную политику."
      ],
      "metadata": {
        "id": "A4mMaV-dLY3u"
      }
    },
    {
      "cell_type": "markdown",
      "source": [
        "4. Протестируем гипотезу о влиянии на цены акций ПАО Сбербанк ключевой ставки ЦБ РФ с помощью построения регрессионной модели\n",
        "**Нулевая гипотеза:** нет существенного влияния ключевой ставки на цены акций Сбербанка\n",
        "\n",
        "**Альтернативная гипотеза:** ключевая ставка существенно влияет на цены акций Сбербанка"
      ],
      "metadata": {
        "id": "xfPvetlRMRML"
      }
    },
    {
      "cell_type": "code",
      "source": [
        "X = st.add_constant(df['Ключевая ставка,%'])\n",
        "y = df['Цена_СБ']\n",
        "model = st.OLS(y, X).fit()\n",
        "print(model.summary())\n",
        "if model.pvalues[\"Ключевая ставка,%\"] < 0.05:\n",
        "    print(\"Ключевая ставка значимо влияет на цены акций Сбербанка\")\n",
        "else:\n",
        "    print(\"Ключевая ставка не оказывает существенного влияние на цены акций Сбербанка\")"
      ],
      "metadata": {
        "colab": {
          "base_uri": "https://localhost:8080/"
        },
        "id": "Oung8xfkOQZU",
        "outputId": "847e4f0b-fea1-4b04-f2d1-c6767536c93c"
      },
      "execution_count": null,
      "outputs": [
        {
          "output_type": "stream",
          "name": "stdout",
          "text": [
            "                            OLS Regression Results                            \n",
            "==============================================================================\n",
            "Dep. Variable:                Цена_СБ   R-squared:                       0.659\n",
            "Model:                            OLS   Adj. R-squared:                  0.658\n",
            "Method:                 Least Squares   F-statistic:                     596.4\n",
            "Date:                Sun, 02 Jun 2024   Prob (F-statistic):           5.10e-74\n",
            "Time:                        13:54:48   Log-Likelihood:                -1453.8\n",
            "No. Observations:                 310   AIC:                             2912.\n",
            "Df Residuals:                     308   BIC:                             2919.\n",
            "Df Model:                           1                                         \n",
            "Covariance Type:            nonrobust                                         \n",
            "=====================================================================================\n",
            "                        coef    std err          t      P>|t|      [0.025      0.975]\n",
            "-------------------------------------------------------------------------------------\n",
            "const               133.3020      4.852     27.476      0.000     123.755     142.849\n",
            "Ключевая ставка,%     9.7907      0.401     24.420      0.000       9.002      10.580\n",
            "==============================================================================\n",
            "Omnibus:                       19.680   Durbin-Watson:                   0.023\n",
            "Prob(Omnibus):                  0.000   Jarque-Bera (JB):               22.177\n",
            "Skew:                          -0.646   Prob(JB):                     1.53e-05\n",
            "Kurtosis:                       2.777   Cond. No.                         39.4\n",
            "==============================================================================\n",
            "\n",
            "Notes:\n",
            "[1] Standard Errors assume that the covariance matrix of the errors is correctly specified.\n",
            "Ключевая ставка значимо влияет на цены акций Сбербанка\n"
          ]
        }
      ]
    },
    {
      "cell_type": "markdown",
      "source": [
        "Коэффициент детерминации достаточно высок (приблизительно 0.7). Известно, что чем ближе данный коэффициент к 1, тем лучше у нас объясняется изменчивость данных, а значит, лучше объясняется влияние одного показателя на другой. В целом, выдвинутое нами предположение о влиянии ключевой ставки при исследовательском анализе данных подтвердилось, и данные по ключевой ставке будут полезны при обучении модели."
      ],
      "metadata": {
        "id": "Be8zhbOcPdmC"
      }
    },
    {
      "cell_type": "markdown",
      "source": [
        "5. Проверим гипотезу об автокорреляции цен акций ПАО Сбербанк, поскольку при работе с данными финансового сектора этот фактор важно учитывать для точности выводов и прогнозов"
      ],
      "metadata": {
        "id": "iTlUlgZlRbtZ"
      }
    },
    {
      "cell_type": "code",
      "source": [
        "dw_statistic = durbin_watson(df['Цена_СБ'])\n",
        "print(\"Статистика теста Дарбина-Уотсона:\", dw_statistic)\n",
        "if dw_statistic < 1.5:\n",
        "    print(\"Положительная автокорреляция\")\n",
        "elif dw_statistic > 2.5:\n",
        "    print(\"Отрицательная автокорреляция\")\n",
        "else:\n",
        "    print(\"Нет автокорреляции\")"
      ],
      "metadata": {
        "colab": {
          "base_uri": "https://localhost:8080/"
        },
        "id": "suIGVBJlRiRG",
        "outputId": "b9e31879-d0a8-4015-8f50-9f7357839d93"
      },
      "execution_count": null,
      "outputs": [
        {
          "output_type": "stream",
          "name": "stdout",
          "text": [
            "Статистика теста Дарбина-Уотсона: 0.00015738278250138782\n",
            "Положительная автокорреляция\n"
          ]
        }
      ]
    },
    {
      "cell_type": "markdown",
      "source": [
        "**Вывод:** между ценами акций в разный момент времени существует положительная зависимость. Например, если цена акций сегодня выше, чем вчера, то вероятность того, что цена акций завтра также будет выше, увеличивается. Также результат нашего теста может свидетельствовать о наличии тенденций в формировании цен."
      ],
      "metadata": {
        "id": "Idf70thjRyjJ"
      }
    },
    {
      "cell_type": "code",
      "source": [
        "df = df.sort_values(by='Дата', ascending=False)\n",
        "plt.figure(figsize=(10, 6))\n",
        "plt.plot(df['Дата'], df['Цена_СБ'], color = 'violet')\n",
        "plt.title('Динамика цен во времени')\n",
        "plt.xlabel('Дата')\n",
        "plt.ylabel('Цена')\n",
        "plt.show()"
      ],
      "metadata": {
        "colab": {
          "base_uri": "https://localhost:8080/",
          "height": 605
        },
        "id": "Hs20NtTRSwpd",
        "outputId": "7a44d5f0-69f6-4ba5-9eac-b2bd8cec7873"
      },
      "execution_count": null,
      "outputs": [
        {
          "output_type": "display_data",
          "data": {
            "text/plain": [
              "<Figure size 1000x600 with 1 Axes>"
            ],
            "image/png": "[encoded data removed]"
          },
          "metadata": {}
        }
      ]
    },
    {
      "cell_type": "markdown",
      "source": [
        "Тренд роста действительно есть."
      ],
      "metadata": {
        "id": "jr_C9e8RT-xB"
      }
    },
    {
      "cell_type": "markdown",
      "source": [
        "6. Проверим гипотезу о том,что в понедельник и пятницу в цены акций закладываются ожидания относительно выходных или же отыгрываются новости,произошедшие за субботу и воскресенье. Если это так, то средние значения должны существенно различаться. В качестве бенчмарка примем индекс IMOEX, поскольку он диверсифицирован и вполне отражает рыночную ситуацию."
      ],
      "metadata": {
        "id": "M5xw2DSlg2tN"
      }
    },
    {
      "cell_type": "code",
      "source": [
        "df['День недели'] = df['День недели'].replace({0: 'Monday', 1: 'Tuesday', 2: 'Wednesday', 3: 'Thursday', 4: 'Friday'})\n",
        "monday_friday_data = df[(df['День недели'] == 'Monday') | (df['День недели'] == 'Friday')]\n",
        "other_days_data = df[(df['День недели'] != 'Monday') & (df['День недели'] != 'Friday')]\n",
        "mean_prices_monfri = monday_friday_data['Цена_СБ'].mean()\n",
        "mean_prices_other = other_days_data['Цена_СБ'].mean()\n",
        "mean_index_prices_monfri = monday_friday_data['Цена_М'].mean()\n",
        "mean_index_prices_other = other_days_data['Цена_М'].mean()\n",
        "t_statistic, p_value = stats.ttest_ind(monday_friday_data['Цена_СБ'], other_days_data['Цена_СБ'], equal_var = False)\n",
        "\n",
        "print(f\"Средняя цена акций в понедельник и пятницу: {mean_prices_monfri}\")\n",
        "print(f\"Средняя цена акций в другие дни: {mean_prices_other}\")\n",
        "print(f\"Средняя цена индекса в понедельник и пятницу: {mean_index_prices_monfri}\")\n",
        "print(f\"Средняя цена индекса в другие дни: {mean_index_prices_other}\")\n",
        "print(f\"Значение t-статистики: {t_statistic}, p-значение: {p_value}\")"
      ],
      "metadata": {
        "colab": {
          "base_uri": "https://localhost:8080/"
        },
        "id": "mFEs8pTsiHX_",
        "outputId": "cfd442e8-d465-461a-9f03-4b8f389318a6"
      },
      "execution_count": null,
      "outputs": [
        {
          "output_type": "stream",
          "name": "stdout",
          "text": [
            "Средняя цена акций в понедельник и пятницу: 246.0871544715447\n",
            "Средняя цена акций в другие дни: 245.89973262032086\n",
            "Средняя цена индекса в понедельник и пятницу: 86.75472682926828\n",
            "Средняя цена индекса в другие дни: 86.80456470588234\n",
            "Значение t-статистики: 0.035579741230349404, p-значение: 0.9716448719716615\n"
          ]
        }
      ]
    },
    {
      "cell_type": "markdown",
      "source": [
        "Можем увидеть, что среднее значение цен акций Сбербанка в понедельник и пятницу чуть выше, чем в остальные дни, однако эта разница несущественная.\n",
        "\n",
        "- Значение t-статистики равно 0.0356. Это говорит о том, что различия между средними значениями двух групп невелики.\n",
        "- p-значение составляет 0.9716. Это означает, что вероятность получить такие же или более экстремальные различия между группами при условии, что нулевая гипотеза верна, очень высока.\n",
        "\n",
        "Итак, мы не можем отвергнуть нулевую гипотезу о том, что средние значения двух групп одинаковы.\n",
        "\n",
        "Таким образом, на основании этих результатов можно сделать вывод, что нет статистически значимых различий между ценами акций Сбербанка и ценами индекса IMOEX в понедельник и пятницу, и значит, что в целом, цены акций вполне справедливы"
      ],
      "metadata": {
        "id": "Jbj2__4klJI2"
      }
    }
  ]
}